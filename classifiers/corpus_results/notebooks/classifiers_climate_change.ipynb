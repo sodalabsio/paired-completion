{
 "cells": [
  {
   "cell_type": "code",
   "execution_count": 1,
   "id": "d52c4875",
   "metadata": {
    "execution": {
     "iopub.execute_input": "2024-08-16T04:58:53.871785Z",
     "iopub.status.busy": "2024-08-16T04:58:53.871459Z",
     "iopub.status.idle": "2024-08-16T04:58:53.874251Z",
     "shell.execute_reply": "2024-08-16T04:58:53.873677Z"
    },
    "papermill": {
     "duration": 0.006238,
     "end_time": "2024-08-16T04:58:53.875210",
     "exception": false,
     "start_time": "2024-08-16T04:58:53.868972",
     "status": "completed"
    },
    "tags": []
   },
   "outputs": [],
   "source": [
    "# # pip install\n",
    "# %pip install openai dill seaborn"
   ]
  },
  {
   "cell_type": "code",
   "execution_count": 2,
   "id": "d57c9d6d",
   "metadata": {
    "execution": {
     "iopub.execute_input": "2024-08-16T04:58:53.879100Z",
     "iopub.status.busy": "2024-08-16T04:58:53.878606Z",
     "iopub.status.idle": "2024-08-16T04:58:53.885847Z",
     "shell.execute_reply": "2024-08-16T04:58:53.885156Z"
    },
    "papermill": {
     "duration": 0.010422,
     "end_time": "2024-08-16T04:58:53.887058",
     "exception": false,
     "start_time": "2024-08-16T04:58:53.876636",
     "status": "completed"
    },
    "tags": [
     "parameters"
    ]
   },
   "outputs": [],
   "source": [
    "# Corpus\n",
    "# CORPUS = \"synthetic_data_corpus\"\n",
    "# CORPUS_NAME = \"converted_climate_change_gpt-4-turbo-preview_gpt-4-turbo-preview_10_10\"\n",
    "CORPUS_NAME = \"dog_ownership\"\n",
    "\n",
    "# The name of the experiment (i.e. where to save the results)\n",
    "# EXPERIMENT_NAME = \"climate_synthetic_test_k2\"\n",
    "EXPERIMENT_NAME = \"test_classifiers_ignore_me\"\n",
    "\n",
    "# CORPUS_SIZE = \"/20_10\"\n",
    "CORPUS_SIZE = \"voice\"\n",
    "# CORPUS_SIZE = \"/N_20_K_10\"\n"
   ]
  },
  {
   "cell_type": "code",
   "execution_count": 3,
   "id": "fcdf7098",
   "metadata": {
    "execution": {
     "iopub.execute_input": "2024-08-16T04:58:53.891818Z",
     "iopub.status.busy": "2024-08-16T04:58:53.891377Z",
     "iopub.status.idle": "2024-08-16T04:58:53.895023Z",
     "shell.execute_reply": "2024-08-16T04:58:53.894087Z"
    },
    "papermill": {
     "duration": 0.007098,
     "end_time": "2024-08-16T04:58:53.895955",
     "exception": false,
     "start_time": "2024-08-16T04:58:53.888857",
     "status": "completed"
    },
    "tags": [
     "injected-parameters"
    ]
   },
   "outputs": [],
   "source": [
    "# Parameters\n",
    "CORPUS_NAME = \"climate_change\"\n",
    "EXPERIMENT_NAME = \"classifiers_climate_change\"\n",
    "CORPUS_SIZE = \"/20_10\"\n"
   ]
  },
  {
   "cell_type": "code",
   "execution_count": 4,
   "id": "20854605",
   "metadata": {
    "execution": {
     "iopub.execute_input": "2024-08-16T04:58:53.899687Z",
     "iopub.status.busy": "2024-08-16T04:58:53.899309Z",
     "iopub.status.idle": "2024-08-16T04:58:53.903245Z",
     "shell.execute_reply": "2024-08-16T04:58:53.902392Z"
    },
    "papermill": {
     "duration": 0.006891,
     "end_time": "2024-08-16T04:58:53.904208",
     "exception": false,
     "start_time": "2024-08-16T04:58:53.897317",
     "status": "completed"
    },
    "tags": []
   },
   "outputs": [],
   "source": [
    "if CORPUS_SIZE == \"voice\":\n",
    "    CORPUS = \"/workspaces/dev/projects/narratives/classifiers/real_world_corpora/the_voice_the_voice_broad_keyscheck_4sep2023_filtered_chars150to1200_gpt-3.5-turbo-instruct_2_2 (1).json\"\n",
    "elif CORPUS_SIZE == \"climate\":\n",
    "    CORPUS = \"/workspaces/dev/projects/narratives/classifiers/real_world_corpora/with_jensen_garrett_abbott_climate_climate_change_pms_curie_2_-1.json\"\n",
    "else:\n",
    "    CORPUS = (\n",
    "        \"../gpt-4-only-corpora/\"\n",
    "        + CORPUS_NAME\n",
    "        + CORPUS_SIZE\n",
    "        + \".json\"\n",
    "    )"
   ]
  },
  {
   "cell_type": "code",
   "execution_count": 5,
   "id": "8b451736",
   "metadata": {
    "execution": {
     "iopub.execute_input": "2024-08-16T04:58:53.907984Z",
     "iopub.status.busy": "2024-08-16T04:58:53.907713Z",
     "iopub.status.idle": "2024-08-16T04:58:54.813035Z",
     "shell.execute_reply": "2024-08-16T04:58:54.812558Z"
    },
    "papermill": {
     "duration": 0.90862,
     "end_time": "2024-08-16T04:58:54.814185",
     "exception": false,
     "start_time": "2024-08-16T04:58:53.905565",
     "status": "completed"
    },
    "tags": []
   },
   "outputs": [
    {
     "name": "stdout",
     "output_type": "stream",
     "text": [
      "Loaded 800 texts from corpus\n",
      "Total word count: 13558\n",
      "800 800\n"
     ]
    },
    {
     "name": "stdout",
     "output_type": "stream",
     "text": [
      "Loaded 800 texts from corpus\n",
      "Total word count: 13558\n",
      "TRAIN: 640 TEST: 160\n",
      "640 160 640 160\n",
      "Accuracy: 0.85625\n",
      "F1: 0.8555673299580047\n",
      "Cross validation scores: [0.8625  0.85625 0.8     0.7625  0.74375]\n",
      "Cross validation mean: 0.805\n",
      "Cross validation std: 0.04799088455113117\n"
     ]
    }
   ],
   "source": [
    "# Multiprocessing with joblib\n",
    "import os\n",
    "import yaml\n",
    "from tqdm.auto import tqdm\n",
    "\n",
    "\n",
    "# # Load texts from corpora/{CORPUS}.json\n",
    "# with open(os.path.join(\"../corpora\", f\"{CORPUS}.json\"), \"r\") as f:\n",
    "#     corpus_data = yaml.safe_load(f)\n",
    "\n",
    "\n",
    "# # Load texts from corpora/{CORPUS}.json\n",
    "# with open(os.path.join(\"../corpora\", f\"{CORPUS}.json\"), \"r\") as f:\n",
    "#     corpus_data = yaml.safe_load(f)\n",
    "\n",
    "with open(CORPUS, \"r\") as f:\n",
    "    corpus_data = yaml.safe_load(f)\n",
    "\n",
    "if CORPUS_SIZE == \"voice\" or CORPUS_SIZE == \"climate\":\n",
    "    # print(corpus_data)\n",
    "    X = [text[\"text\"] for text in corpus_data]\n",
    "    y = [text[\"affiliation\"] for text in corpus_data]\n",
    "\n",
    "    # Counter({'Australian Labor Party': 561, 'Liberal Party of Australia': 95, 'Independent': 89, 'Australian Greens': 14, 'National Party of Australia': 10})\n",
    "    left = [\"Australian Labor Party\", \"Australian Greens\"]\n",
    "    right = [\"Liberal Party of Australia\", \"National Party of Australia\"]\n",
    "    \n",
    "    # Merge into \"left\" and \"right\" affiliations, dropping others\n",
    "    y = [\"left\" if affiliation in left else \"right\" if affiliation in right else None for affiliation in y]\n",
    "    X = [x for x, y in zip(X, y) if y is not None]\n",
    "    y = [y for y in y if y is not None]\n",
    "    print(len(X), len(y))\n",
    "    \n",
    "    # Drop any classes with less than 2 examples\n",
    "    from collections import Counter\n",
    "\n",
    "    counter = Counter(y)\n",
    "    print(counter)\n",
    "    X = [x for x, y in zip(X, y) if counter[y] > 1]\n",
    "    y = [y for y in y if counter[y] > 1]\n",
    "    print(len(X), len(y))\n",
    "else:\n",
    "    seeds = corpus_data[\"seeds\"]\n",
    "    distilled = corpus_data[\"distilled\"]\n",
    "    summarized = corpus_data[\"summarized\"]\n",
    "    names = corpus_data[\"names\"]\n",
    "    dataset = corpus_data[\"dataset\"]\n",
    "\n",
    "    # Convert the dataset to corpus data format\n",
    "    corpus_data = []\n",
    "    for seed_set in dataset:\n",
    "        for a in seed_set[\"a_first\"][\"a\"]:\n",
    "            corpus_data.append({\"text\": a, \"speakername\": \"a\"})\n",
    "        for b in seed_set[\"a_first\"][\"b\"]:\n",
    "            corpus_data.append({\"text\": b, \"speakername\": \"b\"})\n",
    "        for a in seed_set[\"b_first\"][\"a\"]:\n",
    "            corpus_data.append({\"text\": a, \"speakername\": \"a\"})\n",
    "        for b in seed_set[\"b_first\"][\"b\"]:\n",
    "            corpus_data.append({\"text\": b, \"speakername\": \"b\"})\n",
    "\n",
    "    # Shuffle\n",
    "    # random.shuffle(corpus_data)\n",
    "\n",
    "    print(\"Loaded {} texts from corpus\".format(len(corpus_data)))\n",
    "    print(\"Total word count:\", sum([len(text[\"text\"].split()) for text in corpus_data]))\n",
    "\n",
    "    # Create the training data\n",
    "    X = [text[\"text\"] for text in corpus_data]\n",
    "    y = [text[\"speakername\"] for text in corpus_data]\n",
    "    print(len(X), len(y))\n",
    "\n",
    "# print(\"Loaded {} texts from corpus\".format(len(corpus_data)))\n",
    "# print(\"Total word count:\", sum([len(text[\"text\"].split()) for text in corpus_data]))\n",
    "\n",
    "# Create the training data and use an n-gram sklearn model\n",
    "from sklearn.feature_extraction.text import CountVectorizer\n",
    "from sklearn.feature_extraction.text import TfidfTransformer\n",
    "from sklearn.pipeline import Pipeline\n",
    "from sklearn.linear_model import SGDClassifier\n",
    "from sklearn.naive_bayes import MultinomialNB\n",
    "\n",
    "# from sklearn.model_selection import train_test_split\n",
    "# Stratified train-test split\n",
    "from sklearn.model_selection import StratifiedShuffleSplit\n",
    "from sklearn.metrics import accuracy_score, f1_score\n",
    "from sklearn.model_selection import cross_val_score\n",
    "\n",
    "# Create the training data\n",
    "# X = [text[\"text\"] for text in corpus_data]\n",
    "# y = [text[\"speakername\"] for text in corpus_data]\n",
    "# print(len(X), len(y))\n",
    "\n",
    "print(\"Loaded {} texts from corpus\".format(len(corpus_data)))\n",
    "print(\"Total word count:\", sum([len(text[\"text\"].split()) for text in corpus_data]))\n",
    "\n",
    "# Split into train and test\n",
    "# X_train, X_test, y_train, y_test = train_test_split(X, y, test_size=0.2)\n",
    "sss = StratifiedShuffleSplit(n_splits=1, test_size=0.2, random_state=42)\n",
    "for train_index, test_index in sss.split(X, y):\n",
    "    print(\"TRAIN:\", len(train_index), \"TEST:\", len(test_index))\n",
    "    X_train, X_test = [X[i] for i in train_index], [X[i] for i in test_index]\n",
    "    y_train, y_test = [y[i] for i in train_index], [y[i] for i in test_index]\n",
    "\n",
    "print(len(X_train), len(X_test), len(y_train), len(y_test))\n",
    "\n",
    "# Create the pipeline\n",
    "text_clf = Pipeline(\n",
    "    [\n",
    "        (\"vect\", CountVectorizer(ngram_range=(1, 2))),\n",
    "        (\"tfidf\", TfidfTransformer()),\n",
    "        # SGD classifier\n",
    "        (\n",
    "            \"clf\",\n",
    "            SGDClassifier(\n",
    "                # loss=\"hinge\", # Probability weights not available\n",
    "                loss=\"log_loss\",\n",
    "                penalty=\"l2\",\n",
    "                alpha=1e-3,\n",
    "                random_state=42,\n",
    "                max_iter=5,\n",
    "                tol=None,\n",
    "            ),\n",
    "        ),\n",
    "        # Naive Bayes\n",
    "        # ('clf', MultinomialNB()),\n",
    "    ]\n",
    ")\n",
    "\n",
    "# Fit the model\n",
    "text_clf.fit(X_train, y_train)\n",
    "\n",
    "# Predict\n",
    "predicted = text_clf.predict(X_test)\n",
    "probs = text_clf.predict_proba(X_test)\n",
    "\n",
    "# Evaluate\n",
    "print(\"Accuracy:\", accuracy_score(y_test, predicted))\n",
    "print(\"F1:\", f1_score(y_test, predicted, average=\"weighted\"))\n",
    "\n",
    "# Cross validation\n",
    "scores = cross_val_score(text_clf, X, y, cv=5)\n",
    "print(\"Cross validation scores:\", scores)\n",
    "print(\"Cross validation mean:\", scores.mean())\n",
    "print(\"Cross validation std:\", scores.std())\n",
    "\n",
    "# Save the data in CSV format\n",
    "import pandas as pd\n",
    "\n",
    "# Make the folder\n",
    "os.makedirs(f\"corpus_results/classifiers/{EXPERIMENT_NAME}\", exist_ok=True)\n",
    "\n",
    "# Save the predictions for each datum in the test set to data.csv\n",
    "df = pd.DataFrame(\n",
    "    {\n",
    "        \"text\": X_test,\n",
    "        \"truth\": y_test,\n",
    "        \"classification\": predicted,\n",
    "        \"a\": [p[0] for p in probs],\n",
    "        \"b\": [p[1] for p in probs],\n",
    "    }\n",
    ")\n",
    "df.to_csv(f\"corpus_results/classifiers/{EXPERIMENT_NAME}/data.csv\")"
   ]
  },
  {
   "cell_type": "code",
   "execution_count": 6,
   "id": "90cf81b3",
   "metadata": {
    "execution": {
     "iopub.execute_input": "2024-08-16T04:58:54.818002Z",
     "iopub.status.busy": "2024-08-16T04:58:54.817832Z"
    },
    "papermill": {
     "duration": 4.881468,
     "end_time": "2024-08-16T04:58:59.697360",
     "exception": false,
     "start_time": "2024-08-16T04:58:54.815892",
     "status": "completed"
    },
    "tags": []
   },
   "outputs": [
    {
     "name": "stdout",
     "output_type": "stream",
     "text": [
      "Minimum class size: 320\n"
     ]
    },
    {
     "data": {
      "application/vnd.jupyter.widget-view+json": {
       "model_id": "61d4f5d04b3146c6be29e406bc667231",
       "version_major": 2,
       "version_minor": 0
      },
      "text/plain": [
       "  0%|          | 0/6 [00:00<?, ?it/s]"
      ]
     },
     "metadata": {},
     "output_type": "display_data"
    },
    {
     "data": {
      "application/vnd.jupyter.widget-view+json": {
       "model_id": "e20f3e4fba03441699b621433404c81f",
       "version_major": 2,
       "version_minor": 0
      },
      "text/plain": [
       "  0%|          | 0/100 [00:00<?, ?it/s]"
      ]
     },
     "metadata": {},
     "output_type": "display_data"
    },
    {
     "data": {
      "application/vnd.jupyter.widget-view+json": {
       "model_id": "6fae32315a0c496db118ec4debe4f86b",
       "version_major": 2,
       "version_minor": 0
      },
      "text/plain": [
       "  0%|          | 0/100 [00:00<?, ?it/s]"
      ]
     },
     "metadata": {},
     "output_type": "display_data"
    },
    {
     "data": {
      "application/vnd.jupyter.widget-view+json": {
       "model_id": "f89f65ec8f4e4a239d523d8f0596e725",
       "version_major": 2,
       "version_minor": 0
      },
      "text/plain": [
       "  0%|          | 0/100 [00:00<?, ?it/s]"
      ]
     },
     "metadata": {},
     "output_type": "display_data"
    },
    {
     "data": {
      "application/vnd.jupyter.widget-view+json": {
       "model_id": "1fea3dec232d4f49a95fc3bd0920e256",
       "version_major": 2,
       "version_minor": 0
      },
      "text/plain": [
       "  0%|          | 0/100 [00:00<?, ?it/s]"
      ]
     },
     "metadata": {},
     "output_type": "display_data"
    },
    {
     "data": {
      "application/vnd.jupyter.widget-view+json": {
       "model_id": "643460c9455846a3a1ddd5a59e988c16",
       "version_major": 2,
       "version_minor": 0
      },
      "text/plain": [
       "  0%|          | 0/100 [00:00<?, ?it/s]"
      ]
     },
     "metadata": {},
     "output_type": "display_data"
    }
   ],
   "source": [
    "import random\n",
    "\n",
    "# %pip install seaborn\n",
    "# Sample N=(10, 100, 500) texts for training set, 100 times each\n",
    "N = [10, 20, 50, 100, 200, 500]\n",
    "n_samples = 100\n",
    "results = {}\n",
    "min_class_size = float(\"Inf\")\n",
    "for speaker in set(y_train):\n",
    "    min_class_size = min(min_class_size, len([y for y in y_train if y == speaker]))\n",
    "print(\"Minimum class size:\", min_class_size)\n",
    "\n",
    "for n in tqdm(N):\n",
    "    # if n > len(X_train)\n",
    "    if n > min_class_size:\n",
    "        continue\n",
    "\n",
    "    results[n] = []\n",
    "    for iteration in tqdm(range(n_samples)):\n",
    "        # Sample n texts from X_train\n",
    "        # X_train_sample = random.sample(X_train, n)\n",
    "        # y_train_sample = [y_train[X_train.index(text)] for text in X_train_sample]\n",
    "\n",
    "        # Sample stratified, N/2 for each class\n",
    "        X_train_sample = []\n",
    "        y_train_sample = []\n",
    "        for speaker in set(y_train):\n",
    "            X_train_sample.extend(\n",
    "                random.sample(\n",
    "                    [\n",
    "                        text\n",
    "                        for text, speakername in zip(X_train, y_train)\n",
    "                        if speakername == speaker\n",
    "                    ],\n",
    "                    n // 2,\n",
    "                )\n",
    "            )\n",
    "            y_train_sample.extend([speaker for _ in range(n // 2)])\n",
    "\n",
    "        # Shuffle together\n",
    "        X_train_sample, y_train_sample = zip(\n",
    "            *random.sample(\n",
    "                list(zip(X_train_sample, y_train_sample)), len(X_train_sample)\n",
    "            )\n",
    "        )\n",
    "\n",
    "        # print(X_train_sample)\n",
    "        # print(y_train_sample)\n",
    "\n",
    "        # print(len(X_train_sample), len(y_train_sample))\n",
    "\n",
    "        # Clear the model\n",
    "        text_clf = Pipeline(\n",
    "            [\n",
    "                (\"vect\", CountVectorizer(ngram_range=(1, 2))),\n",
    "                (\"tfidf\", TfidfTransformer()),\n",
    "                # SGD classifier\n",
    "                # ('clf', SGDClassifier(loss='hinge', penalty='l2', alpha=1e-3, random_state=42, max_iter=5, tol=None)),\n",
    "                # Probability estimates not available for loss='hinge'\n",
    "                (\n",
    "                    \"clf\",\n",
    "                    SGDClassifier(\n",
    "                        loss=\"log_loss\",\n",
    "                        penalty=\"l2\",\n",
    "                        alpha=1e-3,\n",
    "                        random_state=42,\n",
    "                        max_iter=5,\n",
    "                        tol=None,\n",
    "                    ),\n",
    "                ),\n",
    "                # Naive Bayes\n",
    "                # ('clf', MultinomialNB()),\n",
    "            ]\n",
    "        )\n",
    "        # Fit the model\n",
    "        text_clf.fit(X_train_sample, y_train_sample)\n",
    "        # Predict\n",
    "        predicted = text_clf.predict(X_test)\n",
    "        probs = text_clf.predict_proba(X_test)\n",
    "        # Evaluate\n",
    "        results[n].append(\n",
    "            {\n",
    "                \"n\": n,\n",
    "                \"i\": iteration,\n",
    "                \"accuracy\": accuracy_score(y_test, predicted),\n",
    "                \"predictions\": predicted,\n",
    "                \"probabilities\": probs,\n",
    "            }\n",
    "        )"
   ]
  },
  {
   "cell_type": "code",
   "execution_count": null,
   "id": "ee1a65d6",
   "metadata": {
    "papermill": {
     "duration": null,
     "end_time": null,
     "exception": null,
     "start_time": null,
     "status": "completed"
    },
    "tags": []
   },
   "outputs": [],
   "source": [
    "# Save each prediction to a CSV, flattened and including the value of n and the iteration as columns\n",
    "df = pd.concat(\n",
    "    [\n",
    "        pd.DataFrame(\n",
    "            {\n",
    "                \"n\": n,\n",
    "                \"i\": iteration,\n",
    "                \"text\": X_test,\n",
    "                # \"accuracy\": result[\"accuracy\"],\n",
    "                \"truth\": y_test,\n",
    "                \"classification\": result[\"predictions\"],\n",
    "                \"a\": [p[0] for p in result[\"probabilities\"]],\n",
    "                \"b\": [p[1] for p in result[\"probabilities\"]],\n",
    "            }\n",
    "        )\n",
    "        for n, results_n in results.items()\n",
    "        for iteration, result in enumerate(results_n)\n",
    "    ]\n",
    ")\n",
    "\n",
    "# Save to CSV without index\n",
    "df.to_csv(f\"corpus_results/classifiers/{EXPERIMENT_NAME}/data_sampled.csv\", index=False)"
   ]
  },
  {
   "cell_type": "code",
   "execution_count": null,
   "id": "e363cb53",
   "metadata": {
    "papermill": {
     "duration": null,
     "end_time": null,
     "exception": null,
     "start_time": null,
     "status": "completed"
    },
    "tags": []
   },
   "outputs": [],
   "source": [
    "# %pip install seaborn\n",
    "# Show results\n",
    "# print(results)\n",
    "\n",
    "# # Save the data in JSON format\n",
    "# import json\n",
    "# with open(f\"corpus_results/{EXPERIMENT_NAME}.json\", \"w\") as f:\n",
    "#     json.dump(results, f)\n",
    "\n",
    "# Save the results\n",
    "df = pd.DataFrame(results)\n",
    "df.to_csv(f\"corpus_results/classifiers/{EXPERIMENT_NAME}/scores.csv\")\n",
    "\n",
    "# Show average and std for each N\n",
    "import numpy as np\n",
    "import matplotlib.pyplot as plt\n",
    "import seaborn as sns\n",
    "\n",
    "sns.set_style(\"whitegrid\")\n",
    "sns.set_palette(\"colorblind\")\n",
    "sns.set_context(\"paper\", font_scale=1.5)\n",
    "plt.figure(figsize=(10, 6))\n",
    "\n",
    "for n in N:\n",
    "    if n in results:\n",
    "        plt.errorbar(\n",
    "            n,\n",
    "            np.mean([result[\"accuracy\"] for result in results[n]]),\n",
    "            yerr=np.std([result[\"accuracy\"] for result in results[n]]),\n",
    "            fmt=\"o\",\n",
    "            capsize=5,\n",
    "            label=f\"N={n}\",\n",
    "        )\n",
    "\n",
    "# Give solid white background\n",
    "plt.gca().set_facecolor(\"white\")\n",
    "plt.xlabel(\"N\")\n",
    "plt.ylabel(\"Accuracy\")\n",
    "plt.legend()\n",
    "plt.savefig(\n",
    "    f\"corpus_results/classifiers/{EXPERIMENT_NAME}/accuracy.jpg\",\n",
    "    dpi=300,\n",
    "    bbox_inches=\"tight\",\n",
    ")\n",
    "plt.show()"
   ]
  },
  {
   "cell_type": "code",
   "execution_count": null,
   "id": "88ea6301",
   "metadata": {
    "papermill": {
     "duration": null,
     "end_time": null,
     "exception": null,
     "start_time": null,
     "status": "completed"
    },
    "tags": []
   },
   "outputs": [],
   "source": []
  }
 ],
 "metadata": {
  "kernelspec": {
   "display_name": "Python 3",
   "language": "python",
   "name": "python3"
  },
  "language_info": {
   "codemirror_mode": {
    "name": "ipython",
    "version": 3
   },
   "file_extension": ".py",
   "mimetype": "text/x-python",
   "name": "python",
   "nbconvert_exporter": "python",
   "pygments_lexer": "ipython3",
   "version": "3.10.6"
  },
  "papermill": {
   "default_parameters": {},
   "duration": 6.950122,
   "end_time": "2024-08-16T04:58:59.878669",
   "environment_variables": {},
   "exception": null,
   "input_path": "classifiers.ipynb",
   "output_path": "corpus_results/notebooks/classifiers_climate_change.ipynb",
   "parameters": {
    "CORPUS_NAME": "climate_change",
    "CORPUS_SIZE": "/20_10",
    "EXPERIMENT_NAME": "classifiers_climate_change"
   },
   "start_time": "2024-08-16T04:58:52.928547",
   "version": "2.6.0"
  }
 },
 "nbformat": 4,
 "nbformat_minor": 5
}