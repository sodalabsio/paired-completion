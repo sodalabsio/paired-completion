{
 "cells": [
  {
   "cell_type": "markdown",
   "id": "738703dd",
   "metadata": {
    "tags": [
     "papermill-error-cell-tag"
    ]
   },
   "source": [
    "<span style=\"color:red; font-family:Helvetica Neue, Helvetica, Arial, sans-serif; font-size:2em;\">An Exception was encountered at '<a href=\"#papermill-error-cell\">In [5]</a>'.</span>"
   ]
  },
  {
   "cell_type": "code",
   "execution_count": 1,
   "id": "a4f8b88c",
   "metadata": {
    "execution": {
     "iopub.execute_input": "2024-08-16T04:58:38.821618Z",
     "iopub.status.busy": "2024-08-16T04:58:38.821388Z",
     "iopub.status.idle": "2024-08-16T04:58:38.823823Z",
     "shell.execute_reply": "2024-08-16T04:58:38.823502Z"
    },
    "papermill": {
     "duration": 0.005569,
     "end_time": "2024-08-16T04:58:38.824668",
     "exception": false,
     "start_time": "2024-08-16T04:58:38.819099",
     "status": "completed"
    },
    "tags": []
   },
   "outputs": [],
   "source": [
    "# # pip install\n",
    "# %pip install openai dill seaborn"
   ]
  },
  {
   "cell_type": "code",
   "execution_count": 2,
   "id": "4f6a8425",
   "metadata": {
    "execution": {
     "iopub.execute_input": "2024-08-16T04:58:38.827800Z",
     "iopub.status.busy": "2024-08-16T04:58:38.827673Z",
     "iopub.status.idle": "2024-08-16T04:58:38.832061Z",
     "shell.execute_reply": "2024-08-16T04:58:38.831739Z"
    },
    "papermill": {
     "duration": 0.006826,
     "end_time": "2024-08-16T04:58:38.832893",
     "exception": false,
     "start_time": "2024-08-16T04:58:38.826067",
     "status": "completed"
    },
    "tags": [
     "parameters"
    ]
   },
   "outputs": [],
   "source": [
    "# Corpus\n",
    "# CORPUS = \"synthetic_data_corpus\"\n",
    "# CORPUS_NAME = \"converted_climate_change_gpt-4-turbo-preview_gpt-4-turbo-preview_10_10\"\n",
    "CORPUS_NAME = \"dog_ownership\"\n",
    "\n",
    "# The name of the experiment (i.e. where to save the results)\n",
    "# EXPERIMENT_NAME = \"climate_synthetic_test_k2\"\n",
    "EXPERIMENT_NAME = \"test_classifiers_ignore_me\"\n",
    "\n",
    "# CORPUS_SIZE = \"/20_10\"\n",
    "CORPUS_SIZE = \"voice\"\n",
    "# CORPUS_SIZE = \"/N_20_K_10\"\n"
   ]
  },
  {
   "cell_type": "code",
   "execution_count": 3,
   "id": "8270d150",
   "metadata": {
    "execution": {
     "iopub.execute_input": "2024-08-16T04:58:38.836098Z",
     "iopub.status.busy": "2024-08-16T04:58:38.835974Z",
     "iopub.status.idle": "2024-08-16T04:58:38.838025Z",
     "shell.execute_reply": "2024-08-16T04:58:38.837718Z"
    },
    "papermill": {
     "duration": 0.004573,
     "end_time": "2024-08-16T04:58:38.838791",
     "exception": false,
     "start_time": "2024-08-16T04:58:38.834218",
     "status": "completed"
    },
    "tags": [
     "injected-parameters"
    ]
   },
   "outputs": [],
   "source": [
    "# Parameters\n",
    "CORPUS_NAME = \"misogyny\"\n",
    "EXPERIMENT_NAME = \"classifiers_misogyny\"\n",
    "CORPUS_SIZE = \"/20_10\"\n"
   ]
  },
  {
   "cell_type": "code",
   "execution_count": 4,
   "id": "813e72b3",
   "metadata": {
    "execution": {
     "iopub.execute_input": "2024-08-16T04:58:38.841869Z",
     "iopub.status.busy": "2024-08-16T04:58:38.841748Z",
     "iopub.status.idle": "2024-08-16T04:58:38.844107Z",
     "shell.execute_reply": "2024-08-16T04:58:38.843766Z"
    },
    "papermill": {
     "duration": 0.004776,
     "end_time": "2024-08-16T04:58:38.844888",
     "exception": false,
     "start_time": "2024-08-16T04:58:38.840112",
     "status": "completed"
    },
    "tags": []
   },
   "outputs": [],
   "source": [
    "if CORPUS_SIZE == \"voice\":\n",
    "    CORPUS = \"/workspaces/dev/projects/narratives/classifiers/real_world_corpora/the_voice_the_voice_broad_keyscheck_4sep2023_filtered_chars150to1200_gpt-3.5-turbo-instruct_2_2 (1).json\"\n",
    "elif CORPUS_SIZE == \"climate\":\n",
    "    CORPUS = \"/workspaces/dev/projects/narratives/classifiers/real_world_corpora/with_jensen_garrett_abbott_climate_climate_change_pms_curie_2_-1.json\"\n",
    "else:\n",
    "    CORPUS = (\n",
    "        \"../gpt-4-only-corpora/\"\n",
    "        + CORPUS_NAME\n",
    "        + CORPUS_SIZE\n",
    "        + \".json\"\n",
    "    )"
   ]
  },
  {
   "cell_type": "markdown",
   "id": "c5b16c58",
   "metadata": {
    "tags": [
     "papermill-error-cell-tag"
    ]
   },
   "source": [
    "<span id=\"papermill-error-cell\" style=\"color:red; font-family:Helvetica Neue, Helvetica, Arial, sans-serif; font-size:2em;\">Execution using papermill encountered an exception here and stopped:</span>"
   ]
  },
  {
   "cell_type": "code",
   "execution_count": 5,
   "id": "b3a3dbfb",
   "metadata": {
    "execution": {
     "iopub.execute_input": "2024-08-16T04:58:38.848383Z",
     "iopub.status.busy": "2024-08-16T04:58:38.848011Z",
     "iopub.status.idle": "2024-08-16T04:58:39.723906Z",
     "shell.execute_reply": "2024-08-16T04:58:39.723285Z"
    },
    "papermill": {
     "duration": 0.87842,
     "end_time": "2024-08-16T04:58:39.724651",
     "exception": true,
     "start_time": "2024-08-16T04:58:38.846231",
     "status": "failed"
    },
    "tags": []
   },
   "outputs": [
    {
     "name": "stdout",
     "output_type": "stream",
     "text": [
      "Loaded 800 texts from corpus\n",
      "Total word count: 12986\n",
      "800 800\n"
     ]
    },
    {
     "name": "stdout",
     "output_type": "stream",
     "text": [
      "Loaded 800 texts from corpus\n",
      "Total word count: 12986\n",
      "TRAIN: 640 TEST: 160\n",
      "640 160 640 160\n"
     ]
    },
    {
     "ename": "InvalidParameterError",
     "evalue": "The 'loss' parameter of SGDClassifier must be a str among {'log_loss', 'squared_hinge', 'perceptron', 'squared_error', 'squared_epsilon_insensitive', 'modified_huber', 'epsilon_insensitive', 'huber', 'hinge'}. Got 'log' instead.",
     "output_type": "error",
     "traceback": [
      "\u001b[0;31m---------------------------------------------------------------------------\u001b[0m",
      "\u001b[0;31mInvalidParameterError\u001b[0m                     Traceback (most recent call last)",
      "Cell \u001b[0;32mIn[5], line 130\u001b[0m\n\u001b[1;32m    107\u001b[0m text_clf \u001b[38;5;241m=\u001b[39m Pipeline(\n\u001b[1;32m    108\u001b[0m     [\n\u001b[1;32m    109\u001b[0m         (\u001b[38;5;124m\"\u001b[39m\u001b[38;5;124mvect\u001b[39m\u001b[38;5;124m\"\u001b[39m, CountVectorizer(ngram_range\u001b[38;5;241m=\u001b[39m(\u001b[38;5;241m1\u001b[39m, \u001b[38;5;241m2\u001b[39m))),\n\u001b[0;32m   (...)\u001b[0m\n\u001b[1;32m    126\u001b[0m     ]\n\u001b[1;32m    127\u001b[0m )\n\u001b[1;32m    129\u001b[0m \u001b[38;5;66;03m# Fit the model\u001b[39;00m\n\u001b[0;32m--> 130\u001b[0m \u001b[43mtext_clf\u001b[49m\u001b[38;5;241;43m.\u001b[39;49m\u001b[43mfit\u001b[49m\u001b[43m(\u001b[49m\u001b[43mX_train\u001b[49m\u001b[43m,\u001b[49m\u001b[43m \u001b[49m\u001b[43my_train\u001b[49m\u001b[43m)\u001b[49m\n\u001b[1;32m    132\u001b[0m \u001b[38;5;66;03m# Predict\u001b[39;00m\n\u001b[1;32m    133\u001b[0m predicted \u001b[38;5;241m=\u001b[39m text_clf\u001b[38;5;241m.\u001b[39mpredict(X_test)\n",
      "File \u001b[0;32m~/.local/lib/python3.10/site-packages/sklearn/base.py:1474\u001b[0m, in \u001b[0;36m_fit_context.<locals>.decorator.<locals>.wrapper\u001b[0;34m(estimator, *args, **kwargs)\u001b[0m\n\u001b[1;32m   1467\u001b[0m     estimator\u001b[38;5;241m.\u001b[39m_validate_params()\n\u001b[1;32m   1469\u001b[0m \u001b[38;5;28;01mwith\u001b[39;00m config_context(\n\u001b[1;32m   1470\u001b[0m     skip_parameter_validation\u001b[38;5;241m=\u001b[39m(\n\u001b[1;32m   1471\u001b[0m         prefer_skip_nested_validation \u001b[38;5;129;01mor\u001b[39;00m global_skip_validation\n\u001b[1;32m   1472\u001b[0m     )\n\u001b[1;32m   1473\u001b[0m ):\n\u001b[0;32m-> 1474\u001b[0m     \u001b[38;5;28;01mreturn\u001b[39;00m \u001b[43mfit_method\u001b[49m\u001b[43m(\u001b[49m\u001b[43mestimator\u001b[49m\u001b[43m,\u001b[49m\u001b[43m \u001b[49m\u001b[38;5;241;43m*\u001b[39;49m\u001b[43margs\u001b[49m\u001b[43m,\u001b[49m\u001b[43m \u001b[49m\u001b[38;5;241;43m*\u001b[39;49m\u001b[38;5;241;43m*\u001b[39;49m\u001b[43mkwargs\u001b[49m\u001b[43m)\u001b[49m\n",
      "File \u001b[0;32m~/.local/lib/python3.10/site-packages/sklearn/pipeline.py:475\u001b[0m, in \u001b[0;36mPipeline.fit\u001b[0;34m(self, X, y, **params)\u001b[0m\n\u001b[1;32m    473\u001b[0m     \u001b[38;5;28;01mif\u001b[39;00m \u001b[38;5;28mself\u001b[39m\u001b[38;5;241m.\u001b[39m_final_estimator \u001b[38;5;241m!=\u001b[39m \u001b[38;5;124m\"\u001b[39m\u001b[38;5;124mpassthrough\u001b[39m\u001b[38;5;124m\"\u001b[39m:\n\u001b[1;32m    474\u001b[0m         last_step_params \u001b[38;5;241m=\u001b[39m routed_params[\u001b[38;5;28mself\u001b[39m\u001b[38;5;241m.\u001b[39msteps[\u001b[38;5;241m-\u001b[39m\u001b[38;5;241m1\u001b[39m][\u001b[38;5;241m0\u001b[39m]]\n\u001b[0;32m--> 475\u001b[0m         \u001b[38;5;28;43mself\u001b[39;49m\u001b[38;5;241;43m.\u001b[39;49m\u001b[43m_final_estimator\u001b[49m\u001b[38;5;241;43m.\u001b[39;49m\u001b[43mfit\u001b[49m\u001b[43m(\u001b[49m\u001b[43mXt\u001b[49m\u001b[43m,\u001b[49m\u001b[43m \u001b[49m\u001b[43my\u001b[49m\u001b[43m,\u001b[49m\u001b[43m \u001b[49m\u001b[38;5;241;43m*\u001b[39;49m\u001b[38;5;241;43m*\u001b[39;49m\u001b[43mlast_step_params\u001b[49m\u001b[43m[\u001b[49m\u001b[38;5;124;43m\"\u001b[39;49m\u001b[38;5;124;43mfit\u001b[39;49m\u001b[38;5;124;43m\"\u001b[39;49m\u001b[43m]\u001b[49m\u001b[43m)\u001b[49m\n\u001b[1;32m    477\u001b[0m \u001b[38;5;28;01mreturn\u001b[39;00m \u001b[38;5;28mself\u001b[39m\n",
      "File \u001b[0;32m~/.local/lib/python3.10/site-packages/sklearn/base.py:1467\u001b[0m, in \u001b[0;36m_fit_context.<locals>.decorator.<locals>.wrapper\u001b[0;34m(estimator, *args, **kwargs)\u001b[0m\n\u001b[1;32m   1462\u001b[0m partial_fit_and_fitted \u001b[38;5;241m=\u001b[39m (\n\u001b[1;32m   1463\u001b[0m     fit_method\u001b[38;5;241m.\u001b[39m\u001b[38;5;18m__name__\u001b[39m \u001b[38;5;241m==\u001b[39m \u001b[38;5;124m\"\u001b[39m\u001b[38;5;124mpartial_fit\u001b[39m\u001b[38;5;124m\"\u001b[39m \u001b[38;5;129;01mand\u001b[39;00m _is_fitted(estimator)\n\u001b[1;32m   1464\u001b[0m )\n\u001b[1;32m   1466\u001b[0m \u001b[38;5;28;01mif\u001b[39;00m \u001b[38;5;129;01mnot\u001b[39;00m global_skip_validation \u001b[38;5;129;01mand\u001b[39;00m \u001b[38;5;129;01mnot\u001b[39;00m partial_fit_and_fitted:\n\u001b[0;32m-> 1467\u001b[0m     \u001b[43mestimator\u001b[49m\u001b[38;5;241;43m.\u001b[39;49m\u001b[43m_validate_params\u001b[49m\u001b[43m(\u001b[49m\u001b[43m)\u001b[49m\n\u001b[1;32m   1469\u001b[0m \u001b[38;5;28;01mwith\u001b[39;00m config_context(\n\u001b[1;32m   1470\u001b[0m     skip_parameter_validation\u001b[38;5;241m=\u001b[39m(\n\u001b[1;32m   1471\u001b[0m         prefer_skip_nested_validation \u001b[38;5;129;01mor\u001b[39;00m global_skip_validation\n\u001b[1;32m   1472\u001b[0m     )\n\u001b[1;32m   1473\u001b[0m ):\n\u001b[1;32m   1474\u001b[0m     \u001b[38;5;28;01mreturn\u001b[39;00m fit_method(estimator, \u001b[38;5;241m*\u001b[39margs, \u001b[38;5;241m*\u001b[39m\u001b[38;5;241m*\u001b[39mkwargs)\n",
      "File \u001b[0;32m~/.local/lib/python3.10/site-packages/sklearn/base.py:666\u001b[0m, in \u001b[0;36mBaseEstimator._validate_params\u001b[0;34m(self)\u001b[0m\n\u001b[1;32m    658\u001b[0m \u001b[38;5;28;01mdef\u001b[39;00m \u001b[38;5;21m_validate_params\u001b[39m(\u001b[38;5;28mself\u001b[39m):\n\u001b[1;32m    659\u001b[0m \u001b[38;5;250m    \u001b[39m\u001b[38;5;124;03m\"\"\"Validate types and values of constructor parameters\u001b[39;00m\n\u001b[1;32m    660\u001b[0m \n\u001b[1;32m    661\u001b[0m \u001b[38;5;124;03m    The expected type and values must be defined in the `_parameter_constraints`\u001b[39;00m\n\u001b[0;32m   (...)\u001b[0m\n\u001b[1;32m    664\u001b[0m \u001b[38;5;124;03m    accepted constraints.\u001b[39;00m\n\u001b[1;32m    665\u001b[0m \u001b[38;5;124;03m    \"\"\"\u001b[39;00m\n\u001b[0;32m--> 666\u001b[0m     \u001b[43mvalidate_parameter_constraints\u001b[49m\u001b[43m(\u001b[49m\n\u001b[1;32m    667\u001b[0m \u001b[43m        \u001b[49m\u001b[38;5;28;43mself\u001b[39;49m\u001b[38;5;241;43m.\u001b[39;49m\u001b[43m_parameter_constraints\u001b[49m\u001b[43m,\u001b[49m\n\u001b[1;32m    668\u001b[0m \u001b[43m        \u001b[49m\u001b[38;5;28;43mself\u001b[39;49m\u001b[38;5;241;43m.\u001b[39;49m\u001b[43mget_params\u001b[49m\u001b[43m(\u001b[49m\u001b[43mdeep\u001b[49m\u001b[38;5;241;43m=\u001b[39;49m\u001b[38;5;28;43;01mFalse\u001b[39;49;00m\u001b[43m)\u001b[49m\u001b[43m,\u001b[49m\n\u001b[1;32m    669\u001b[0m \u001b[43m        \u001b[49m\u001b[43mcaller_name\u001b[49m\u001b[38;5;241;43m=\u001b[39;49m\u001b[38;5;28;43mself\u001b[39;49m\u001b[38;5;241;43m.\u001b[39;49m\u001b[38;5;18;43m__class__\u001b[39;49m\u001b[38;5;241;43m.\u001b[39;49m\u001b[38;5;18;43m__name__\u001b[39;49m\u001b[43m,\u001b[49m\n\u001b[1;32m    670\u001b[0m \u001b[43m    \u001b[49m\u001b[43m)\u001b[49m\n",
      "File \u001b[0;32m~/.local/lib/python3.10/site-packages/sklearn/utils/_param_validation.py:95\u001b[0m, in \u001b[0;36mvalidate_parameter_constraints\u001b[0;34m(parameter_constraints, params, caller_name)\u001b[0m\n\u001b[1;32m     89\u001b[0m \u001b[38;5;28;01melse\u001b[39;00m:\n\u001b[1;32m     90\u001b[0m     constraints_str \u001b[38;5;241m=\u001b[39m (\n\u001b[1;32m     91\u001b[0m         \u001b[38;5;124mf\u001b[39m\u001b[38;5;124m\"\u001b[39m\u001b[38;5;132;01m{\u001b[39;00m\u001b[38;5;124m'\u001b[39m\u001b[38;5;124m, \u001b[39m\u001b[38;5;124m'\u001b[39m\u001b[38;5;241m.\u001b[39mjoin([\u001b[38;5;28mstr\u001b[39m(c)\u001b[38;5;250m \u001b[39m\u001b[38;5;28;01mfor\u001b[39;00m\u001b[38;5;250m \u001b[39mc\u001b[38;5;250m \u001b[39m\u001b[38;5;129;01min\u001b[39;00m\u001b[38;5;250m \u001b[39mconstraints[:\u001b[38;5;241m-\u001b[39m\u001b[38;5;241m1\u001b[39m]])\u001b[38;5;132;01m}\u001b[39;00m\u001b[38;5;124m or\u001b[39m\u001b[38;5;124m\"\u001b[39m\n\u001b[1;32m     92\u001b[0m         \u001b[38;5;124mf\u001b[39m\u001b[38;5;124m\"\u001b[39m\u001b[38;5;124m \u001b[39m\u001b[38;5;132;01m{\u001b[39;00mconstraints[\u001b[38;5;241m-\u001b[39m\u001b[38;5;241m1\u001b[39m]\u001b[38;5;132;01m}\u001b[39;00m\u001b[38;5;124m\"\u001b[39m\n\u001b[1;32m     93\u001b[0m     )\n\u001b[0;32m---> 95\u001b[0m \u001b[38;5;28;01mraise\u001b[39;00m InvalidParameterError(\n\u001b[1;32m     96\u001b[0m     \u001b[38;5;124mf\u001b[39m\u001b[38;5;124m\"\u001b[39m\u001b[38;5;124mThe \u001b[39m\u001b[38;5;132;01m{\u001b[39;00mparam_name\u001b[38;5;132;01m!r}\u001b[39;00m\u001b[38;5;124m parameter of \u001b[39m\u001b[38;5;132;01m{\u001b[39;00mcaller_name\u001b[38;5;132;01m}\u001b[39;00m\u001b[38;5;124m must be\u001b[39m\u001b[38;5;124m\"\u001b[39m\n\u001b[1;32m     97\u001b[0m     \u001b[38;5;124mf\u001b[39m\u001b[38;5;124m\"\u001b[39m\u001b[38;5;124m \u001b[39m\u001b[38;5;132;01m{\u001b[39;00mconstraints_str\u001b[38;5;132;01m}\u001b[39;00m\u001b[38;5;124m. Got \u001b[39m\u001b[38;5;132;01m{\u001b[39;00mparam_val\u001b[38;5;132;01m!r}\u001b[39;00m\u001b[38;5;124m instead.\u001b[39m\u001b[38;5;124m\"\u001b[39m\n\u001b[1;32m     98\u001b[0m )\n",
      "\u001b[0;31mInvalidParameterError\u001b[0m: The 'loss' parameter of SGDClassifier must be a str among {'log_loss', 'squared_hinge', 'perceptron', 'squared_error', 'squared_epsilon_insensitive', 'modified_huber', 'epsilon_insensitive', 'huber', 'hinge'}. Got 'log' instead."
     ]
    }
   ],
   "source": [
    "# Multiprocessing with joblib\n",
    "import os\n",
    "import yaml\n",
    "from tqdm.auto import tqdm\n",
    "\n",
    "\n",
    "# # Load texts from corpora/{CORPUS}.json\n",
    "# with open(os.path.join(\"../corpora\", f\"{CORPUS}.json\"), \"r\") as f:\n",
    "#     corpus_data = yaml.safe_load(f)\n",
    "\n",
    "\n",
    "# # Load texts from corpora/{CORPUS}.json\n",
    "# with open(os.path.join(\"../corpora\", f\"{CORPUS}.json\"), \"r\") as f:\n",
    "#     corpus_data = yaml.safe_load(f)\n",
    "\n",
    "with open(CORPUS, \"r\") as f:\n",
    "    corpus_data = yaml.safe_load(f)\n",
    "\n",
    "if CORPUS_SIZE == \"voice\" or CORPUS_SIZE == \"climate\":\n",
    "    # print(corpus_data)\n",
    "    X = [text[\"text\"] for text in corpus_data]\n",
    "    y = [text[\"affiliation\"] for text in corpus_data]\n",
    "\n",
    "    # Counter({'Australian Labor Party': 561, 'Liberal Party of Australia': 95, 'Independent': 89, 'Australian Greens': 14, 'National Party of Australia': 10})\n",
    "    left = [\"Australian Labor Party\", \"Australian Greens\"]\n",
    "    right = [\"Liberal Party of Australia\", \"National Party of Australia\"]\n",
    "    \n",
    "    # Merge into \"left\" and \"right\" affiliations, dropping others\n",
    "    y = [\"left\" if affiliation in left else \"right\" if affiliation in right else None for affiliation in y]\n",
    "    X = [x for x, y in zip(X, y) if y is not None]\n",
    "    y = [y for y in y if y is not None]\n",
    "    print(len(X), len(y))\n",
    "    \n",
    "    # Drop any classes with less than 2 examples\n",
    "    from collections import Counter\n",
    "\n",
    "    counter = Counter(y)\n",
    "    print(counter)\n",
    "    X = [x for x, y in zip(X, y) if counter[y] > 1]\n",
    "    y = [y for y in y if counter[y] > 1]\n",
    "    print(len(X), len(y))\n",
    "else:\n",
    "    seeds = corpus_data[\"seeds\"]\n",
    "    distilled = corpus_data[\"distilled\"]\n",
    "    summarized = corpus_data[\"summarized\"]\n",
    "    names = corpus_data[\"names\"]\n",
    "    dataset = corpus_data[\"dataset\"]\n",
    "\n",
    "    # Convert the dataset to corpus data format\n",
    "    corpus_data = []\n",
    "    for seed_set in dataset:\n",
    "        for a in seed_set[\"a_first\"][\"a\"]:\n",
    "            corpus_data.append({\"text\": a, \"speakername\": \"a\"})\n",
    "        for b in seed_set[\"a_first\"][\"b\"]:\n",
    "            corpus_data.append({\"text\": b, \"speakername\": \"b\"})\n",
    "        for a in seed_set[\"b_first\"][\"a\"]:\n",
    "            corpus_data.append({\"text\": a, \"speakername\": \"a\"})\n",
    "        for b in seed_set[\"b_first\"][\"b\"]:\n",
    "            corpus_data.append({\"text\": b, \"speakername\": \"b\"})\n",
    "\n",
    "    # Shuffle\n",
    "    # random.shuffle(corpus_data)\n",
    "\n",
    "    print(\"Loaded {} texts from corpus\".format(len(corpus_data)))\n",
    "    print(\"Total word count:\", sum([len(text[\"text\"].split()) for text in corpus_data]))\n",
    "\n",
    "    # Create the training data\n",
    "    X = [text[\"text\"] for text in corpus_data]\n",
    "    y = [text[\"speakername\"] for text in corpus_data]\n",
    "    print(len(X), len(y))\n",
    "\n",
    "# print(\"Loaded {} texts from corpus\".format(len(corpus_data)))\n",
    "# print(\"Total word count:\", sum([len(text[\"text\"].split()) for text in corpus_data]))\n",
    "\n",
    "# Create the training data and use an n-gram sklearn model\n",
    "from sklearn.feature_extraction.text import CountVectorizer\n",
    "from sklearn.feature_extraction.text import TfidfTransformer\n",
    "from sklearn.pipeline import Pipeline\n",
    "from sklearn.linear_model import SGDClassifier\n",
    "from sklearn.naive_bayes import MultinomialNB\n",
    "\n",
    "# from sklearn.model_selection import train_test_split\n",
    "# Stratified train-test split\n",
    "from sklearn.model_selection import StratifiedShuffleSplit\n",
    "from sklearn.metrics import accuracy_score, f1_score\n",
    "from sklearn.model_selection import cross_val_score\n",
    "\n",
    "# Create the training data\n",
    "# X = [text[\"text\"] for text in corpus_data]\n",
    "# y = [text[\"speakername\"] for text in corpus_data]\n",
    "# print(len(X), len(y))\n",
    "\n",
    "print(\"Loaded {} texts from corpus\".format(len(corpus_data)))\n",
    "print(\"Total word count:\", sum([len(text[\"text\"].split()) for text in corpus_data]))\n",
    "\n",
    "# Split into train and test\n",
    "# X_train, X_test, y_train, y_test = train_test_split(X, y, test_size=0.2)\n",
    "sss = StratifiedShuffleSplit(n_splits=1, test_size=0.2, random_state=42)\n",
    "for train_index, test_index in sss.split(X, y):\n",
    "    print(\"TRAIN:\", len(train_index), \"TEST:\", len(test_index))\n",
    "    X_train, X_test = [X[i] for i in train_index], [X[i] for i in test_index]\n",
    "    y_train, y_test = [y[i] for i in train_index], [y[i] for i in test_index]\n",
    "\n",
    "print(len(X_train), len(X_test), len(y_train), len(y_test))\n",
    "\n",
    "# Create the pipeline\n",
    "text_clf = Pipeline(\n",
    "    [\n",
    "        (\"vect\", CountVectorizer(ngram_range=(1, 2))),\n",
    "        (\"tfidf\", TfidfTransformer()),\n",
    "        # SGD classifier\n",
    "        (\n",
    "            \"clf\",\n",
    "            SGDClassifier(\n",
    "                # loss=\"hinge\", # Probability weights not available\n",
    "                loss=\"log\",\n",
    "                penalty=\"l2\",\n",
    "                alpha=1e-3,\n",
    "                random_state=42,\n",
    "                max_iter=5,\n",
    "                tol=None,\n",
    "            ),\n",
    "        ),\n",
    "        # Naive Bayes\n",
    "        # ('clf', MultinomialNB()),\n",
    "    ]\n",
    ")\n",
    "\n",
    "# Fit the model\n",
    "text_clf.fit(X_train, y_train)\n",
    "\n",
    "# Predict\n",
    "predicted = text_clf.predict(X_test)\n",
    "probs = text_clf.predict_proba(X_test)\n",
    "\n",
    "# Evaluate\n",
    "print(\"Accuracy:\", accuracy_score(y_test, predicted))\n",
    "print(\"F1:\", f1_score(y_test, predicted, average=\"weighted\"))\n",
    "\n",
    "# Cross validation\n",
    "scores = cross_val_score(text_clf, X, y, cv=5)\n",
    "print(\"Cross validation scores:\", scores)\n",
    "print(\"Cross validation mean:\", scores.mean())\n",
    "print(\"Cross validation std:\", scores.std())\n",
    "\n",
    "# Save the data in CSV format\n",
    "import pandas as pd\n",
    "\n",
    "# Make the folder\n",
    "os.makedirs(f\"corpus_results/classifiers/{EXPERIMENT_NAME}\", exist_ok=True)\n",
    "\n",
    "# Save the predictions for each datum in the test set to data.csv\n",
    "df = pd.DataFrame(\n",
    "    {\n",
    "        \"text\": X_test,\n",
    "        \"truth\": y_test,\n",
    "        \"classification\": predicted,\n",
    "        \"a\": [p[0] for p in probs],\n",
    "        \"b\": [p[1] for p in probs],\n",
    "    }\n",
    ")\n",
    "df.to_csv(f\"corpus_results/classifiers/{EXPERIMENT_NAME}/data.csv\")"
   ]
  },
  {
   "cell_type": "code",
   "execution_count": null,
   "id": "53d1ac73",
   "metadata": {
    "papermill": {
     "duration": null,
     "end_time": null,
     "exception": null,
     "start_time": null,
     "status": "pending"
    },
    "tags": []
   },
   "outputs": [],
   "source": [
    "import random\n",
    "\n",
    "# %pip install seaborn\n",
    "# Sample N=(10, 100, 500) texts for training set, 100 times each\n",
    "N = [10, 20, 50, 100, 200, 500]\n",
    "n_samples = 100\n",
    "results = {}\n",
    "min_class_size = float(\"Inf\")\n",
    "for speaker in set(y_train):\n",
    "    min_class_size = min(min_class_size, len([y for y in y_train if y == speaker]))\n",
    "print(\"Minimum class size:\", min_class_size)\n",
    "\n",
    "for n in tqdm(N):\n",
    "    # if n > len(X_train)\n",
    "    if n > min_class_size:\n",
    "        continue\n",
    "\n",
    "    results[n] = []\n",
    "    for iteration in tqdm(range(n_samples)):\n",
    "        # Sample n texts from X_train\n",
    "        # X_train_sample = random.sample(X_train, n)\n",
    "        # y_train_sample = [y_train[X_train.index(text)] for text in X_train_sample]\n",
    "\n",
    "        # Sample stratified, N/2 for each class\n",
    "        X_train_sample = []\n",
    "        y_train_sample = []\n",
    "        for speaker in set(y_train):\n",
    "            X_train_sample.extend(\n",
    "                random.sample(\n",
    "                    [\n",
    "                        text\n",
    "                        for text, speakername in zip(X_train, y_train)\n",
    "                        if speakername == speaker\n",
    "                    ],\n",
    "                    n // 2,\n",
    "                )\n",
    "            )\n",
    "            y_train_sample.extend([speaker for _ in range(n // 2)])\n",
    "\n",
    "        # Shuffle together\n",
    "        X_train_sample, y_train_sample = zip(\n",
    "            *random.sample(\n",
    "                list(zip(X_train_sample, y_train_sample)), len(X_train_sample)\n",
    "            )\n",
    "        )\n",
    "\n",
    "        # print(X_train_sample)\n",
    "        # print(y_train_sample)\n",
    "\n",
    "        # print(len(X_train_sample), len(y_train_sample))\n",
    "\n",
    "        # Clear the model\n",
    "        text_clf = Pipeline(\n",
    "            [\n",
    "                (\"vect\", CountVectorizer(ngram_range=(1, 2))),\n",
    "                (\"tfidf\", TfidfTransformer()),\n",
    "                # SGD classifier\n",
    "                # ('clf', SGDClassifier(loss='hinge', penalty='l2', alpha=1e-3, random_state=42, max_iter=5, tol=None)),\n",
    "                # Probability estimates not available for loss='hinge'\n",
    "                (\n",
    "                    \"clf\",\n",
    "                    SGDClassifier(\n",
    "                        loss=\"log_loss\",\n",
    "                        penalty=\"l2\",\n",
    "                        alpha=1e-3,\n",
    "                        random_state=42,\n",
    "                        max_iter=5,\n",
    "                        tol=None,\n",
    "                    ),\n",
    "                ),\n",
    "                # Naive Bayes\n",
    "                # ('clf', MultinomialNB()),\n",
    "            ]\n",
    "        )\n",
    "        # Fit the model\n",
    "        text_clf.fit(X_train_sample, y_train_sample)\n",
    "        # Predict\n",
    "        predicted = text_clf.predict(X_test)\n",
    "        probs = text_clf.predict_proba(X_test)\n",
    "        # Evaluate\n",
    "        results[n].append(\n",
    "            {\n",
    "                \"n\": n,\n",
    "                \"i\": iteration,\n",
    "                \"accuracy\": accuracy_score(y_test, predicted),\n",
    "                \"predictions\": predicted,\n",
    "                \"probabilities\": probs,\n",
    "            }\n",
    "        )"
   ]
  },
  {
   "cell_type": "code",
   "execution_count": null,
   "id": "c44c44b0",
   "metadata": {
    "papermill": {
     "duration": null,
     "end_time": null,
     "exception": null,
     "start_time": null,
     "status": "pending"
    },
    "tags": []
   },
   "outputs": [],
   "source": [
    "# Save each prediction to a CSV, flattened and including the value of n and the iteration as columns\n",
    "df = pd.concat(\n",
    "    [\n",
    "        pd.DataFrame(\n",
    "            {\n",
    "                \"n\": n,\n",
    "                \"i\": iteration,\n",
    "                \"text\": X_test,\n",
    "                # \"accuracy\": result[\"accuracy\"],\n",
    "                \"truth\": y_test,\n",
    "                \"classification\": result[\"predictions\"],\n",
    "                \"a\": [p[0] for p in result[\"probabilities\"]],\n",
    "                \"b\": [p[1] for p in result[\"probabilities\"]],\n",
    "            }\n",
    "        )\n",
    "        for n, results_n in results.items()\n",
    "        for iteration, result in enumerate(results_n)\n",
    "    ]\n",
    ")\n",
    "\n",
    "# Save to CSV without index\n",
    "df.to_csv(f\"corpus_results/classifiers/{EXPERIMENT_NAME}/data_sampled.csv\", index=False)"
   ]
  },
  {
   "cell_type": "code",
   "execution_count": null,
   "id": "a209b7e6",
   "metadata": {
    "papermill": {
     "duration": null,
     "end_time": null,
     "exception": null,
     "start_time": null,
     "status": "pending"
    },
    "tags": []
   },
   "outputs": [],
   "source": [
    "# %pip install seaborn\n",
    "# Show results\n",
    "# print(results)\n",
    "\n",
    "# # Save the data in JSON format\n",
    "# import json\n",
    "# with open(f\"corpus_results/{EXPERIMENT_NAME}.json\", \"w\") as f:\n",
    "#     json.dump(results, f)\n",
    "\n",
    "# Save the results\n",
    "df = pd.DataFrame(results)\n",
    "df.to_csv(f\"corpus_results/classifiers/{EXPERIMENT_NAME}/scores.csv\")\n",
    "\n",
    "# Show average and std for each N\n",
    "import numpy as np\n",
    "import matplotlib.pyplot as plt\n",
    "import seaborn as sns\n",
    "\n",
    "sns.set_style(\"whitegrid\")\n",
    "sns.set_palette(\"colorblind\")\n",
    "sns.set_context(\"paper\", font_scale=1.5)\n",
    "plt.figure(figsize=(10, 6))\n",
    "\n",
    "for n in N:\n",
    "    if n in results:\n",
    "        plt.errorbar(\n",
    "            n,\n",
    "            np.mean([result[\"accuracy\"] for result in results[n]]),\n",
    "            yerr=np.std([result[\"accuracy\"] for result in results[n]]),\n",
    "            fmt=\"o\",\n",
    "            capsize=5,\n",
    "            label=f\"N={n}\",\n",
    "        )\n",
    "\n",
    "# Give solid white background\n",
    "plt.gca().set_facecolor(\"white\")\n",
    "plt.xlabel(\"N\")\n",
    "plt.ylabel(\"Accuracy\")\n",
    "plt.legend()\n",
    "plt.savefig(\n",
    "    f\"corpus_results/classifiers/{EXPERIMENT_NAME}/accuracy.jpg\",\n",
    "    dpi=300,\n",
    "    bbox_inches=\"tight\",\n",
    ")\n",
    "plt.show()"
   ]
  },
  {
   "cell_type": "code",
   "execution_count": null,
   "id": "4eb955f5",
   "metadata": {
    "papermill": {
     "duration": null,
     "end_time": null,
     "exception": null,
     "start_time": null,
     "status": "pending"
    },
    "tags": []
   },
   "outputs": [],
   "source": []
  }
 ],
 "metadata": {
  "kernelspec": {
   "display_name": "Python 3",
   "language": "python",
   "name": "python3"
  },
  "language_info": {
   "codemirror_mode": {
    "name": "ipython",
    "version": 3
   },
   "file_extension": ".py",
   "mimetype": "text/x-python",
   "name": "python",
   "nbconvert_exporter": "python",
   "pygments_lexer": "ipython3",
   "version": "3.10.12"
  },
  "papermill": {
   "default_parameters": {},
   "duration": 2.154972,
   "end_time": "2024-08-16T04:58:40.040806",
   "environment_variables": {},
   "exception": true,
   "input_path": "classifiers.ipynb",
   "output_path": "corpus_results/notebooks/classifiers_misogyny.ipynb",
   "parameters": {
    "CORPUS_NAME": "misogyny",
    "CORPUS_SIZE": "/20_10",
    "EXPERIMENT_NAME": "classifiers_misogyny"
   },
   "start_time": "2024-08-16T04:58:37.885834",
   "version": "2.6.0"
  }
 },
 "nbformat": 4,
 "nbformat_minor": 5
}