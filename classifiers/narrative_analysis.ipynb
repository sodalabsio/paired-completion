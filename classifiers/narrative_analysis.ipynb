{
 "cells": [
  {
   "cell_type": "code",
   "execution_count": 1,
   "metadata": {
    "tags": [
     "parameters"
    ]
   },
   "outputs": [],
   "source": [
    "# Parameters cell\n",
    "\n",
    "# Model\n",
    "MODEL_LOC = None\n",
    "MODEL = \"babbage-002\"\n",
    "# MODEL = \"df@meta-llama/Llama-2-70b-chat-hf\"\n",
    "\n",
    "# Conditioners\n",
    "CONDITIONERS = 1\n",
    "\n",
    "# Sample rate\n",
    "SAMPLE_RATE = -100\n",
    "\n",
    "# Debug\n",
    "DEBUG = False\n",
    "\n",
    "# Corpus\n",
    "CORPUS_NAME = \"dog_ownership\"\n",
    "\n",
    "# The name of the experiment (i.e. where to save the results)\n",
    "EXPERIMENT_NAME = \"test_ignore_me\"\n",
    "\n",
    "# The size of the corpus\n",
    "CORPUS_SIZE = \"/20_10\""
   ]
  },
  {
   "cell_type": "code",
   "execution_count": 2,
   "metadata": {},
   "outputs": [],
   "source": [
    "CORPUS = (\n",
    "    \"/workspaces/dev/projects/narratives/synthetic/gpt-4-only-corpora/\"\n",
    "    + CORPUS_NAME\n",
    "    + CORPUS_SIZE\n",
    "    + \".json\"\n",
    ")"
   ]
  },
  {
   "cell_type": "code",
   "execution_count": 3,
   "metadata": {},
   "outputs": [
    {
     "name": "stdout",
     "output_type": "stream",
     "text": [
      "*** Using MODEL babbage-002 ***\n"
     ]
    }
   ],
   "source": [
    "import json\n",
    "import openai\n",
    "\n",
    "if MODEL_LOC is not None:\n",
    "    with open(MODEL_LOC, \"r\") as f:\n",
    "        job = json.load(f)\n",
    "    job_id = job[\"id\"]\n",
    "\n",
    "    # Get the model name using the OpenAI API\n",
    "    job_info = openai.FineTuningJob.retrieve(job_id)\n",
    "    MODEL = job_info.fine_tuned_model\n",
    "\n",
    "print(\"*** Using MODEL \" + MODEL + \" ***\")"
   ]
  },
  {
   "cell_type": "code",
   "execution_count": null,
   "metadata": {},
   "outputs": [],
   "source": []
  },
  {
   "cell_type": "code",
   "execution_count": 4,
   "metadata": {},
   "outputs": [
    {
     "name": "stdout",
     "output_type": "stream",
     "text": [
      "*** Experiment ***\n",
      "  Model: babbage-002\n",
      "  Conditioners: 1\n",
      "  Sample rate: -100\n",
      "  Debug: False\n",
      "\n",
      "Saving results to: corpus_results/diff/test_ignore_me\n"
     ]
    }
   ],
   "source": [
    "import os\n",
    "from analyze import experiment_set, NarrativeContext\n",
    "\n",
    "ctx = NarrativeContext(\n",
    "    model=MODEL,\n",
    "    conditioners=CONDITIONERS,\n",
    "    sample_rate=SAMPLE_RATE,\n",
    "    num_threads=(1 if MODEL.startswith(\"llama\") else 16),\n",
    ")\n",
    "\n",
    "print(\"*** Experiment ***\")\n",
    "print(\"  Model: {}\".format(MODEL))\n",
    "print(\"  Conditioners: {}\".format(CONDITIONERS))\n",
    "print(\"  Sample rate: {}\".format(SAMPLE_RATE))\n",
    "print(\"  Debug: {}\".format(DEBUG))\n",
    "print()\n",
    "\n",
    "# Create the results folder\n",
    "\n",
    "# Create results/{EXPERIMENT_NAME}\n",
    "RESULTS_DIR = os.path.join(\"corpus_results/diff/\", EXPERIMENT_NAME)\n",
    "if not os.path.exists(RESULTS_DIR):\n",
    "    os.mkdir(RESULTS_DIR)\n",
    "print(\"Saving results to:\", RESULTS_DIR)\n",
    "\n",
    "\n",
    "def getdir(name):\n",
    "    return os.path.join(RESULTS_DIR, name)"
   ]
  },
  {
   "cell_type": "code",
   "execution_count": 5,
   "metadata": {},
   "outputs": [
    {
     "name": "stdout",
     "output_type": "stream",
     "text": [
      "a 5\n",
      "b 5\n",
      "1\n",
      "*** Experiment corpus ***\n"
     ]
    },
    {
     "data": {
      "application/vnd.jupyter.widget-view+json": {
       "model_id": "ff8489cd799f414580908e23a7fd1535",
       "version_major": 2,
       "version_minor": 0
      },
      "text/plain": [
       "  0%|          | 0/9 [00:00<?, ?it/s]"
      ]
     },
     "metadata": {},
     "output_type": "display_data"
    },
    {
     "name": "stderr",
     "output_type": "stream",
     "text": [
      "100%|██████████| 100/100 [00:08<00:00, 11.45it/s]\n"
     ]
    },
    {
     "data": {
      "application/vnd.jupyter.widget-view+json": {
       "model_id": "b2b4a13a9f884675ae3313d1d793b386",
       "version_major": 2,
       "version_minor": 0
      },
      "text/plain": [
       "  0%|          | 0/9 [00:00<?, ?it/s]"
      ]
     },
     "metadata": {},
     "output_type": "display_data"
    },
    {
     "data": {
      "application/vnd.jupyter.widget-view+json": {
       "model_id": "a552da46fc2745358b6e6e4ec674b0c8",
       "version_major": 2,
       "version_minor": 0
      },
      "text/plain": [
       "  0%|          | 0/20 [00:00<?, ?it/s]"
      ]
     },
     "metadata": {},
     "output_type": "display_data"
    },
    {
     "data": {
      "application/vnd.jupyter.widget-view+json": {
       "model_id": "992a20e812ad4693977bd53859f1aa2d",
       "version_major": 2,
       "version_minor": 0
      },
      "text/plain": [
       "  0%|          | 0/25 [00:00<?, ?it/s]"
      ]
     },
     "metadata": {},
     "output_type": "display_data"
    },
    {
     "data": {
      "application/vnd.jupyter.widget-view+json": {
       "model_id": "4cbdee67a7f347b58fce35ed36bcd9d2",
       "version_major": 2,
       "version_minor": 0
      },
      "text/plain": [
       "0it [00:00, ?it/s]"
      ]
     },
     "metadata": {},
     "output_type": "display_data"
    },
    {
     "name": "stderr",
     "output_type": "stream",
     "text": [
      "/usr/lib/python3/dist-packages/scipy/stats/_continuous_distns.py:367: RuntimeWarning: Mean of empty slice.\n",
      "  loc = data.mean()\n",
      "/usr/lib/python3/dist-packages/numpy/core/_methods.py:189: RuntimeWarning: invalid value encountered in double_scalars\n",
      "  ret = ret.dtype.type(ret / rcount)\n",
      "/usr/lib/python3/dist-packages/scipy/stats/_continuous_distns.py:372: RuntimeWarning: Mean of empty slice.\n",
      "  scale = np.sqrt(((data - loc)**2).mean())\n"
     ]
    },
    {
     "data": {
      "application/vnd.jupyter.widget-view+json": {
       "model_id": "35e713ec15fc45729af4fda988fb52b4",
       "version_major": 2,
       "version_minor": 0
      },
      "text/plain": [
       "  0%|          | 0/25 [00:00<?, ?it/s]"
      ]
     },
     "metadata": {},
     "output_type": "display_data"
    },
    {
     "data": {
      "application/vnd.jupyter.widget-view+json": {
       "model_id": "6e95e4a6d8f94d0094e686c7e7aefbd3",
       "version_major": 2,
       "version_minor": 0
      },
      "text/plain": [
       "  0%|          | 0/20 [00:00<?, ?it/s]"
      ]
     },
     "metadata": {},
     "output_type": "display_data"
    },
    {
     "data": {
      "application/vnd.jupyter.widget-view+json": {
       "model_id": "a8ca100104ff478e94488a3581cc51f4",
       "version_major": 2,
       "version_minor": 0
      },
      "text/plain": [
       "0it [00:00, ?it/s]"
      ]
     },
     "metadata": {},
     "output_type": "display_data"
    },
    {
     "data": {
      "application/vnd.jupyter.widget-view+json": {
       "model_id": "3eb3d9cdeef24bdda8ede4ad2679bf7d",
       "version_major": 2,
       "version_minor": 0
      },
      "text/plain": [
       "0it [00:00, ?it/s]"
      ]
     },
     "metadata": {},
     "output_type": "display_data"
    },
    {
     "data": {
      "application/vnd.jupyter.widget-view+json": {
       "model_id": "dc632a5c972a4f82abed5a7c2784d148",
       "version_major": 2,
       "version_minor": 0
      },
      "text/plain": [
       "0it [00:00, ?it/s]"
      ]
     },
     "metadata": {},
     "output_type": "display_data"
    },
    {
     "data": {
      "application/vnd.jupyter.widget-view+json": {
       "model_id": "5d68bf04e0f045448ee30a53e93386d2",
       "version_major": 2,
       "version_minor": 0
      },
      "text/plain": [
       "0it [00:00, ?it/s]"
      ]
     },
     "metadata": {},
     "output_type": "display_data"
    },
    {
     "name": "stdout",
     "output_type": "stream",
     "text": [
      "\n"
     ]
    }
   ],
   "source": [
    "# Multiprocessing with joblib\n",
    "# %pip install joblib seaborn\n",
    "import matplotlib.pyplot as plt\n",
    "import seaborn as sns\n",
    "import pandas as pd\n",
    "import numpy as np\n",
    "import os\n",
    "import yaml\n",
    "import pickle\n",
    "import random\n",
    "\n",
    "\n",
    "def get_seeds(path):\n",
    "    with open(path, \"r\") as f:\n",
    "        corpus_data = yaml.safe_load(f)\n",
    "\n",
    "    seeds = corpus_data[\"seeds\"]\n",
    "    distilled = corpus_data[\"distilled\"]\n",
    "    summarized = corpus_data[\"summarized\"]\n",
    "    names = corpus_data[\"names\"]\n",
    "    dataset = corpus_data[\"dataset\"]\n",
    "\n",
    "    a_s = []\n",
    "    b_s = []\n",
    "    for seed_pair in distilled:\n",
    "        a_s.append(seed_pair[\"a\"])\n",
    "        b_s.append(seed_pair[\"b\"])\n",
    "    \n",
    "    print(\"a\", len(a_s))\n",
    "    print(\"b\", len(b_s))\n",
    "    return a_s, b_s, []\n",
    "\n",
    "\n",
    "# def load_experiments(name):\n",
    "#     path = os.path.join(\"narrative_sets\", name)\n",
    "\n",
    "#     with open(os.path.join(path, \"helpful\" + NARRATIVE_SUFFIX + \".txt\"), \"r\") as f:\n",
    "#         helpful = f.read().splitlines()\n",
    "\n",
    "#     with open(os.path.join(path, \"unhelpful\" + NARRATIVE_SUFFIX + \".txt\"), \"r\") as f:\n",
    "#         unhelpful = f.read().splitlines()\n",
    "\n",
    "#     # Neutral set might not exist, if so just use an empty list\n",
    "#     if not os.path.exists(os.path.join(path, \"neutral\" + NARRATIVE_SUFFIX + \".txt\")):\n",
    "#         neutral = []\n",
    "#     else:\n",
    "#         with open(os.path.join(path, \"neutral\" + NARRATIVE_SUFFIX + \".txt\"), \"r\") as f:\n",
    "#             neutral = f.read().splitlines()\n",
    "\n",
    "#     # Strip whitespace\n",
    "#     helpful = [h.strip() for h in helpful]\n",
    "#     unhelpful = [h.strip() for h in unhelpful]\n",
    "#     neutral = [h.strip() for h in neutral]\n",
    "\n",
    "#     return helpful, unhelpful, neutral\n",
    "\n",
    "\n",
    "def load_experiments():\n",
    "    # # path = os.path.join(\"narrative_sets\", name)\n",
    "    # X, y = get_X_y(CORPUS)\n",
    "\n",
    "    # # Split the data into a and b (arbitrarily, a = helpful and b = unhelpful)\n",
    "    # a = [X[i] for i in range(len(X)) if y[i] == \"a\"]\n",
    "    # b = [X[i] for i in range(len(X)) if y[i] == \"b\"]\n",
    "\n",
    "    # return a, b, []\n",
    "\n",
    "    return get_seeds(CORPUS)\n",
    "\n",
    "\n",
    "# def load_all_experiments(n=-1):\n",
    "#     # Load experiments in a dict\n",
    "#     experiments = {}\n",
    "#     for name in os.listdir(\"narrative_sets\"):\n",
    "#         print(name)\n",
    "#         if name in SKIP:\n",
    "#             continue\n",
    "\n",
    "#         to_skip = False\n",
    "#         for s in SKIP:\n",
    "#             if not s.startswith(\"-\") and s == name:\n",
    "#                 print(\"Skipping\", name)\n",
    "#                 to_skip = True\n",
    "#                 break\n",
    "\n",
    "#             # Skip if the name is not the skip\n",
    "#             if s.startswith(\"-\") and s[1:] != name:\n",
    "#                 print(\"Skipping\", name)\n",
    "#                 to_skip = True\n",
    "#                 break\n",
    "\n",
    "#         if to_skip:\n",
    "#             continue\n",
    "\n",
    "#         # if name != \"soft_vs_smart_on_crime\":\n",
    "#         #     # TODO: Remove, this is for debugging\n",
    "#         #     continue\n",
    "\n",
    "#         # print(\"Adding experiment\", name)\n",
    "#         experiments[name] = load_experiments(name)\n",
    "\n",
    "#         # Stop if we've loaded n experiments, if n >= 0\n",
    "#         if n >= 0 and len(experiments) >= n:\n",
    "#             break\n",
    "\n",
    "#     return experiments\n",
    "\n",
    "\n",
    "# Load experiments\n",
    "# experiments = load_all_experiments(1 if DEBUG else -1)\n",
    "experiments = {\"corpus\": load_experiments()}\n",
    "print(len(experiments))\n",
    "\n",
    "results = {}\n",
    "for experiment_name in experiments:\n",
    "    print(\"*** Experiment {} ***\".format(experiment_name))\n",
    "    helpful, unhelpful, neutral = experiments[experiment_name]\n",
    "    # priors, conditionals, distributions = experiment_set({\n",
    "    distributions = experiment_set(\n",
    "        {\"helpful\": helpful, \"unhelpful\": unhelpful, \"neutral\": neutral}, ctx=ctx\n",
    "    )\n",
    "\n",
    "    results[experiment_name] = {\n",
    "        # \"priors\": priors,\n",
    "        # \"conditionals\": conditionals,\n",
    "        \"distributions\": distributions,\n",
    "        \"name\": experiment_name,\n",
    "        \"labelled\": {\"helpful\": helpful, \"unhelpful\": unhelpful, \"neutral\": neutral},\n",
    "    }\n",
    "\n",
    "    print()\n",
    "\n",
    "# Save results with pickle\n",
    "with open(getdir(\"results.pkl\"), \"wb\") as f:\n",
    "    pickle.dump(results, f)"
   ]
  },
  {
   "cell_type": "code",
   "execution_count": 6,
   "metadata": {},
   "outputs": [],
   "source": [
    "# import yaml\n",
    "# json_results = {}\n",
    "# for experiment_name in results:\n",
    "#     json_results[experiment_name] = {\n",
    "#         \"priors\": results[experiment_name][\"priors\"],\n",
    "#         \"conditionals\": {\n",
    "#             \"-\".join(k): v\n",
    "#             for k, v in results[experiment_name][\"conditionals\"].items()\n",
    "#         },\n",
    "#         \"deltas\": {\n",
    "#             \"-\".join(k): v\n",
    "#             for k, v in results[experiment_name][\"distributions\"].items()\n",
    "#         },\n",
    "#         # results[experiment_name][\"conditionals\"],\n",
    "#         \"name\": results[experiment_name][\"name\"],\n",
    "#         \"labelled\": results[experiment_name][\"labelled\"]\n",
    "#     }\n",
    "\n",
    "# # with open(\"results.yaml\", \"w\") as f:\n",
    "# with open(getdir(\"results.yaml\"), \"w\") as f:\n",
    "#     yaml.dump(json_results, f)"
   ]
  },
  {
   "cell_type": "code",
   "execution_count": 7,
   "metadata": {},
   "outputs": [
    {
     "name": "stdout",
     "output_type": "stream",
     "text": [
      "Plotting 1 experiment(s)\n"
     ]
    },
    {
     "data": {
      "image/png": "[encoded data removed]",
      "text/plain": [
       "<Figure size 1500x1500 with 1 Axes>"
      ]
     },
     "metadata": {},
     "output_type": "display_data"
    }
   ],
   "source": [
    "# Load experiment data\n",
    "import yaml\n",
    "import pickle\n",
    "import matplotlib.pyplot as plt\n",
    "import seaborn as sns\n",
    "import pandas as pd\n",
    "import numpy as np\n",
    "import os\n",
    "import yaml\n",
    "import pickle\n",
    "\n",
    "# with open(\"results.pkl\", \"rb\") as f:\n",
    "with open(getdir(\"results.pkl\"), \"rb\") as f:\n",
    "    results = pickle.load(f)\n",
    "\n",
    "\n",
    "def plot(experiment, ax):\n",
    "    distributions = experiment[\"distributions\"]\n",
    "    experiment_name = experiment[\"name\"]\n",
    "\n",
    "    # Remove distributions containing the neutral set if it's empty\n",
    "    if len(experiment[\"labelled\"][\"neutral\"]) == 0:\n",
    "        distributions = {k: v for k, v in distributions.items() if \"neutral\" not in k}\n",
    "\n",
    "    labels = []\n",
    "    for key in distributions:\n",
    "        labels.extend(key)\n",
    "    labels = set(labels)\n",
    "\n",
    "    data = [\n",
    "        {\n",
    "            \"before\": label_set,\n",
    "            \"after\": other_label_set,\n",
    "            \"mean\": round(\n",
    "                distributions[(label_set, other_label_set)][\"distribution\"][0], 2\n",
    "            ),\n",
    "            \"dist\": \"N({}, {})\".format(\n",
    "                round(\n",
    "                    distributions[(label_set, other_label_set)][\"distribution\"][0], 2\n",
    "                ),\n",
    "                round(\n",
    "                    distributions[(label_set, other_label_set)][\"distribution\"][1], 2\n",
    "                ),\n",
    "            ),\n",
    "        }\n",
    "        # for label_set in [\"unhelpful\", \"helpful\"]\n",
    "        # for other_label_set in [\"unhelpful\", \"helpful\"]\n",
    "        for label_set in labels\n",
    "        for other_label_set in labels\n",
    "    ]\n",
    "\n",
    "    # Show like a confusion matrix\n",
    "    df = pd.DataFrame(data)\n",
    "\n",
    "    # Pivot\n",
    "    labels = df.pivot(index=\"before\", columns=\"after\", values=\"dist\").values\n",
    "    df = df.pivot(index=\"before\", columns=\"after\", values=\"mean\")\n",
    "\n",
    "    # Negate means\n",
    "    df = df.applymap(lambda x: -x)\n",
    "\n",
    "    # Plot the figure on the given axes\n",
    "    sns.heatmap(df, annot=labels, fmt=\"\", cmap=\"gray\", cbar=False, ax=ax)\n",
    "\n",
    "    # Set title\n",
    "    ax.set_title(\"Narrative Analysis: {}\".format(experiment_name))\n",
    "\n",
    "\n",
    "if len(results) > 0:\n",
    "    # Plot all experiments in a single figure with subplots\n",
    "    print(\"Plotting {} experiment(s)\".format(len(results)))\n",
    "    fig, axes = plt.subplots(1, len(results), figsize=(5 * len(results), 5), dpi=300)\n",
    "    for i, experiment_name in enumerate(results):\n",
    "        if len(results) == 1:\n",
    "            plot(results[experiment_name], axes)\n",
    "        else:\n",
    "            plot(results[experiment_name], axes[i])\n",
    "\n",
    "    # Solid white background\n",
    "    fig.patch.set_facecolor(\"white\")\n",
    "\n",
    "    # Show figure\n",
    "    fig.show()\n",
    "\n",
    "    # Save the figure to a file\n",
    "    # Create results dir if necessary\n",
    "    if not os.path.exists(getdir(\"figures/\")):\n",
    "        os.mkdir(getdir(\"figures\"))\n",
    "\n",
    "    figpath = getdir(\n",
    "        \"figures/results_{}_{}_{}.png\".format(\n",
    "            MODEL.replace(\"/\", \"_\"), CONDITIONERS, SAMPLE_RATE\n",
    "        )\n",
    "    )\n",
    "\n",
    "    fig.savefig(figpath, bbox_inches=\"tight\", pad_inches=0.1)\n",
    "\n",
    "else:\n",
    "    print(\"No results to plot\")"
   ]
  },
  {
   "cell_type": "code",
   "execution_count": 8,
   "metadata": {},
   "outputs": [],
   "source": [
    "# distributions"
   ]
  },
  {
   "cell_type": "code",
   "execution_count": 9,
   "metadata": {},
   "outputs": [
    {
     "name": "stdout",
     "output_type": "stream",
     "text": [
      "Saving results to babbage-002_1_-100.csv\n"
     ]
    }
   ],
   "source": [
    "# Load the results from pickle\n",
    "import os\n",
    "import pandas as pd\n",
    "import pickle\n",
    "\n",
    "\n",
    "# with open(\"results.pkl\", \"rb\") as f:\n",
    "with open(getdir(\"results.pkl\"), \"rb\") as f:\n",
    "    results = pickle.load(f)\n",
    "\n",
    "# print(results)\n",
    "\n",
    "rows = []\n",
    "\n",
    "for experiment in results:\n",
    "    distributions = results[experiment][\"distributions\"]\n",
    "    # print(distributions)\n",
    "\n",
    "    for a, b in distributions:\n",
    "        # print(a, b)\n",
    "        for datum in distributions[(a, b)][\"results\"]:\n",
    "            row = {\n",
    "                \"experiment\": experiment,\n",
    "                \"a\": a,\n",
    "                \"b\": b,\n",
    "                \"x\": datum[\"x\"],\n",
    "                \"y\": datum[\"y\"],\n",
    "                \"likelihood_delta\": datum[\"likelihood_delta\"],\n",
    "            }\n",
    "            rows.append(row)\n",
    "\n",
    "# Convert to dataframe\n",
    "df = pd.DataFrame(rows)\n",
    "\n",
    "# Make sure the results directory exists\n",
    "# if not os.path.exists(\"results\"):\n",
    "#     os.makedirs(\"results\")\n",
    "\n",
    "# Save to CSV\n",
    "# df.to_csv(RESULTS_DIR + ctx.model + \"_\" + str(ctx.conditioners) + \"_\" + str(ctx.sample_rate) + \".csv\", index=False)\n",
    "outname = f\"{MODEL}_{CONDITIONERS}_{SAMPLE_RATE}.csv\"\n",
    "print(\"Saving results to {}\".format(outname))\n",
    "df.to_csv(getdir(outname), index=False)"
   ]
  },
  {
   "cell_type": "code",
   "execution_count": null,
   "metadata": {},
   "outputs": [],
   "source": []
  },
  {
   "cell_type": "code",
   "execution_count": null,
   "metadata": {},
   "outputs": [],
   "source": []
  }
 ],
 "metadata": {
  "kernelspec": {
   "display_name": "Python 3",
   "language": "python",
   "name": "python3"
  },
  "language_info": {
   "codemirror_mode": {
    "name": "ipython",
    "version": 3
   },
   "file_extension": ".py",
   "mimetype": "text/x-python",
   "name": "python",
   "nbconvert_exporter": "python",
   "pygments_lexer": "ipython3",
   "version": "3.10.12"
  },
  "orig_nbformat": 4
 },
 "nbformat": 4,
 "nbformat_minor": 2
}
