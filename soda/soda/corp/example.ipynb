{
 "cells": [
  {
   "cell_type": "code",
   "execution_count": null,
   "metadata": {},
   "outputs": [],
   "source": [
    "from dataclasses import dataclass\n",
    "\n",
    "FILTERS = [\n",
    "    \"keyword\",\n",
    "    \"regex\",\n",
    "    \"date\",\n",
    "    \"date_range\",\n",
    "]\n",
    "\n",
    "@dataclass\n",
    "class BackendMethod:\n",
    "    name: str\n",
    "    fn: callable\n",
    "\n",
    "    @classmethod\n",
    "    def wrap(cls, fn):\n",
    "        return cls(fn.__name__, fn)\n",
    "\n",
    "class Backend:\n",
    "    def __init__(self):\n",
    "        pass\n",
    "\n",
    "    for name in FILTERS:\n",
    "        @BackendMethod.wrap\n",
    "        def filter(self, name, value):\n",
    "            pass\n",
    "        \n",
    "\n",
    "@dataclass\n",
    "class Filter:\n",
    "    name: str\n",
    "    value: str\n",
    "\n",
    "    def __post_init__(self):\n",
    "        if self.name not in FILTERS:\n",
    "            raise ValueError(f\"Filter {self.name} is not supported\")\n"
   ]
  }
 ],
 "metadata": {
  "language_info": {
   "name": "python"
  },
  "orig_nbformat": 4
 },
 "nbformat": 4,
 "nbformat_minor": 2
}
